{
 "cells": [
  {
   "cell_type": "code",
   "execution_count": null,
   "id": "336c9184",
   "metadata": {},
   "outputs": [],
   "source": [
    "import pandas as pd\n",
    "cars_data= pd.read_csv(\"Toyota.csv\", index_col=0, na_values=[\"??\", \"????\"])\n",
    "cars_data2 = cars_data.copy()\n",
    "# pd.crosstab(index=cars_data2['FuelType'],columns=cars_data2['Automatics]', dropna=True)\n",
    "numerical_data = cars_data2.select_dtypes(exclude=[object])\n",
    "corr_matrix = numerical_data.corr()"
   ]
  }
 ],
 "metadata": {
  "kernelspec": {
   "display_name": "Python 3 (ipykernel)",
   "language": "python",
   "name": "python3"
  },
  "language_info": {
   "codemirror_mode": {
    "name": "ipython",
    "version": 3
   },
   "file_extension": ".py",
   "mimetype": "text/x-python",
   "name": "python",
   "nbconvert_exporter": "python",
   "pygments_lexer": "ipython3",
   "version": "3.9.7"
  }
 },
 "nbformat": 4,
 "nbformat_minor": 5
}
